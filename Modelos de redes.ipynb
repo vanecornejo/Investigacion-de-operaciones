{
  "nbformat": 4,
  "nbformat_minor": 0,
  "metadata": {
    "colab": {
      "provenance": [],
      "include_colab_link": true
    },
    "kernelspec": {
      "name": "python3",
      "display_name": "Python 3"
    },
    "language_info": {
      "name": "python"
    }
  },
  "cells": [
    {
      "cell_type": "markdown",
      "metadata": {
        "id": "view-in-github",
        "colab_type": "text"
      },
      "source": [
        "<a href=\"https://colab.research.google.com/github/vanecornejo/Investigacion-de-operaciones/blob/main/Modelos%20de%20redes.ipynb\" target=\"_parent\"><img src=\"https://colab.research.google.com/assets/colab-badge.svg\" alt=\"Open In Colab\"/></a>"
      ]
    },
    {
      "cell_type": "markdown",
      "source": [
        "# **Modelos de redes**"
      ],
      "metadata": {
        "id": "3qbPnIEagm6c"
      }
    },
    {
      "cell_type": "code",
      "execution_count": 199,
      "metadata": {
        "id": "rQVx2AluXj1m"
      },
      "outputs": [],
      "source": [
        "#insertamos librería\n",
        "import networkx as nx"
      ]
    },
    {
      "cell_type": "markdown",
      "source": [
        "### Gráfica dirigida\n",
        "Para agregar una gráfica dirigida usamos nx.DiGraph()"
      ],
      "metadata": {
        "id": "yodH6p8xHXbw"
      }
    },
    {
      "cell_type": "code",
      "source": [
        "G = nx.DiGraph()"
      ],
      "metadata": {
        "id": "cxqaaJZGYiD0"
      },
      "execution_count": 200,
      "outputs": []
    },
    {
      "cell_type": "markdown",
      "source": [
        "### Agregar nodos y arcos\n",
        "Vamos a agregar los arcos que conectan a los nodos, agregrando ahí mismo los nodos, en este caso los nodos son las letras A, B, C y D."
      ],
      "metadata": {
        "id": "WNQ02hIlHVsn"
      }
    },
    {
      "cell_type": "code",
      "source": [
        "# Agregar los arcos que conectan a los nodos\n",
        "G.add_edge(\"A\",\"B\", capacity=1)\n",
        "G.add_edge(\"A\",\"C\", capacity=1)\n",
        "G.add_edge(\"B\",\"D\", capacity=1)\n",
        "G.add_edge(\"B\",\"C\", capacity=1)\n",
        "G.add_edge(\"C\",\"D\", capacity=1)"
      ],
      "metadata": {
        "id": "ZJIjG5yTY6vA"
      },
      "execution_count": 201,
      "outputs": []
    },
    {
      "cell_type": "markdown",
      "source": [
        "### Visualización del gráfico\n",
        "Mandamos llamar G, para después imprimir la gráfica con nx.draw_network"
      ],
      "metadata": {
        "id": "KF-Duczg2fVK"
      }
    },
    {
      "cell_type": "code",
      "source": [
        "G\n",
        "nx.draw_networkx(G) #nos muestra la gráfica con los arcos creados"
      ],
      "metadata": {
        "colab": {
          "base_uri": "https://localhost:8080/",
          "height": 406
        },
        "id": "S3OX3TeNa8io",
        "outputId": "fd5f3314-410c-4e30-c1d5-7a549e2b107d"
      },
      "execution_count": 202,
      "outputs": [
        {
          "output_type": "display_data",
          "data": {
            "text/plain": [
              "<Figure size 640x480 with 1 Axes>"
            ],
            "image/png": "[encoded data removed]"
          },
          "metadata": {}
        }
      ]
    },
    {
      "cell_type": "markdown",
      "source": [
        "### Propiedades de nodos y arcos\n",
        "Podemos utilizar diferentes funciones para ver el número de nodos que tiene la red, para mostrarnos cómo van conectados los nodos, el grado de cada nodo.\n",
        "- **Nodos (nodes):** nodos de la red\n",
        "- **Número de nodos (number_of_nodes):** cuántos nodos tiene la red\n",
        "- **Número de arcos (numbe_of_edges):** cuántos arcos tiene la red\n",
        "- **Conexión de nodos en arcos (edges):** cómo se conectan los nodos en cada arco\n",
        "- **Grado del nodo (degree):** cuántas conexiones tiene cada nodo\n"
      ],
      "metadata": {
        "id": "Wfu7vAfYssZu"
      }
    },
    {
      "cell_type": "code",
      "source": [
        "nx.nodes(G) # Regresa los nodos que tiene la red"
      ],
      "metadata": {
        "colab": {
          "base_uri": "https://localhost:8080/"
        },
        "id": "gqtBjgHD4p0h",
        "outputId": "feb3f838-d045-46e9-b6e6-5f1d13f50631"
      },
      "execution_count": 203,
      "outputs": [
        {
          "output_type": "execute_result",
          "data": {
            "text/plain": [
              "NodeView(('A', 'B', 'C', 'D'))"
            ]
          },
          "metadata": {},
          "execution_count": 203
        }
      ]
    },
    {
      "cell_type": "code",
      "source": [
        "nx.number_of_nodes(G) # Regresa el número de nodos que tiene la red"
      ],
      "metadata": {
        "colab": {
          "base_uri": "https://localhost:8080/"
        },
        "id": "oZgUqCcl31mC",
        "outputId": "8bd12b23-d5c9-4cbb-8034-8e6ebae645ba"
      },
      "execution_count": 204,
      "outputs": [
        {
          "output_type": "execute_result",
          "data": {
            "text/plain": [
              "4"
            ]
          },
          "metadata": {},
          "execution_count": 204
        }
      ]
    },
    {
      "cell_type": "code",
      "source": [
        "nx.number_of_edges(G) # Regresa el número de arcos que tiene la red"
      ],
      "metadata": {
        "colab": {
          "base_uri": "https://localhost:8080/"
        },
        "id": "62krO1mH6jON",
        "outputId": "7b87a29b-027e-4295-ec40-b6456f9b63f4"
      },
      "execution_count": 205,
      "outputs": [
        {
          "output_type": "execute_result",
          "data": {
            "text/plain": [
              "5"
            ]
          },
          "metadata": {},
          "execution_count": 205
        }
      ]
    },
    {
      "cell_type": "code",
      "source": [
        "nx.edges(G) # Nos muestra cómo van conectados los nodos en cada arco"
      ],
      "metadata": {
        "colab": {
          "base_uri": "https://localhost:8080/"
        },
        "id": "0XgEndCR26cb",
        "outputId": "3f5e3e0a-2413-46be-c193-cd9c0f063e4e"
      },
      "execution_count": 206,
      "outputs": [
        {
          "output_type": "execute_result",
          "data": {
            "text/plain": [
              "OutEdgeView([('A', 'B'), ('A', 'C'), ('B', 'D'), ('B', 'C'), ('C', 'D')])"
            ]
          },
          "metadata": {},
          "execution_count": 206
        }
      ]
    },
    {
      "cell_type": "code",
      "source": [
        "nx.degree(G) # Muestra el grado de cada nodo, es decir, cuántas conexiones (o arcos) tiene cada nodo"
      ],
      "metadata": {
        "colab": {
          "base_uri": "https://localhost:8080/"
        },
        "id": "cyS6XVTc31_w",
        "outputId": "2551dd41-3e55-414e-fb8c-695e9e7f90a7"
      },
      "execution_count": 207,
      "outputs": [
        {
          "output_type": "execute_result",
          "data": {
            "text/plain": [
              "DiDegreeView({'A': 2, 'B': 3, 'C': 3, 'D': 2})"
            ]
          },
          "metadata": {},
          "execution_count": 207
        }
      ]
    },
    {
      "cell_type": "markdown",
      "source": [
        "### Medidas de Centralidad\n",
        "Las medidas de centralidad ayudan a identificar qué nodos son más importantes en la red\n",
        "\n",
        "- **Grado (degree):** número de conexiones\n",
        "- **Cercanía (closeness):** qué tan cerca está un nodo del resto\n",
        "- **Intermediación (betweenness):** cuántos caminos pasan por el nodo\n"
      ],
      "metadata": {
        "id": "7SbP-jtm7Jc8"
      }
    },
    {
      "cell_type": "code",
      "source": [
        "nx.degree_centrality(G) # Centralidad de grado, es decir, número de conexiones"
      ],
      "metadata": {
        "colab": {
          "base_uri": "https://localhost:8080/"
        },
        "id": "7qN4I1aH8pve",
        "outputId": "69232104-d340-4593-eb38-900d3fa8dded"
      },
      "execution_count": 208,
      "outputs": [
        {
          "output_type": "execute_result",
          "data": {
            "text/plain": [
              "{'A': 0.6666666666666666, 'B': 1.0, 'C': 1.0, 'D': 0.6666666666666666}"
            ]
          },
          "metadata": {},
          "execution_count": 208
        }
      ]
    },
    {
      "cell_type": "code",
      "source": [
        "nx.closeness_centrality(G) # Centralidad de cercanía"
      ],
      "metadata": {
        "colab": {
          "base_uri": "https://localhost:8080/"
        },
        "id": "BriLp1mp7TgT",
        "outputId": "8cf1bd72-03b0-49b1-ddfe-1e1523461b75"
      },
      "execution_count": 209,
      "outputs": [
        {
          "output_type": "execute_result",
          "data": {
            "text/plain": [
              "{'A': 0.0, 'B': 0.3333333333333333, 'C': 0.6666666666666666, 'D': 0.75}"
            ]
          },
          "metadata": {},
          "execution_count": 209
        }
      ]
    },
    {
      "cell_type": "code",
      "source": [
        "nx.betweenness_centrality(G) # Centralidad de intermediación"
      ],
      "metadata": {
        "colab": {
          "base_uri": "https://localhost:8080/"
        },
        "id": "0qI9jBi97T4A",
        "outputId": "c007ba8f-9c1e-4120-a5bf-affb505b77d0"
      },
      "execution_count": 210,
      "outputs": [
        {
          "output_type": "execute_result",
          "data": {
            "text/plain": [
              "{'A': 0.0, 'B': 0.08333333333333333, 'C': 0.08333333333333333, 'D': 0.0}"
            ]
          },
          "metadata": {},
          "execution_count": 210
        }
      ]
    },
    {
      "cell_type": "markdown",
      "source": [
        "### Caminos más cortos\n",
        "También podemos encontrar el camino más corto entre dos nodos. El camino más corto entre dos nodos es la ruta con menos arcos que los conecta.\n",
        "\n",
        "- nx.shortest_path(G, source, target) → devuelve el camino.  \n",
        "- nx.shortest_path_length(G, source, target) → devuelve la longitud.\n"
      ],
      "metadata": {
        "id": "dxQqzoDw-HQK"
      }
    },
    {
      "cell_type": "code",
      "source": [
        "# Por ejemplo\n",
        "camino = nx.shortest_path(G, source=\"A\", target=\"D\")\n",
        "longitud = nx.shortest_path_length(G, source=\"A\", target=\"D\")\n",
        "\n",
        "print(\"Camino más corto entre A y D:\", camino)\n",
        "print(\"Longitud del camino:\", longitud)\n"
      ],
      "metadata": {
        "colab": {
          "base_uri": "https://localhost:8080/"
        },
        "id": "rzQtbgAa-PQl",
        "outputId": "e3f0338b-b195-4cf9-e32d-1abbe1f18ef5"
      },
      "execution_count": 211,
      "outputs": [
        {
          "output_type": "stream",
          "name": "stdout",
          "text": [
            "Camino más corto entre A y D: ['A', 'B', 'D']\n",
            "Longitud del camino: 2\n"
          ]
        }
      ]
    },
    {
      "cell_type": "markdown",
      "source": [
        "## **Árbol de expansión mínima**\n",
        "\n",
        "El árbol de expansión mínima es un árbol que enlaza todos los nodos de la red sin permitir ciclos. Buscamos determinar la red de menor longitud.\n",
        "\n",
        "Se define una función con parámetros G y weight:\n",
        "*    *G* : grafo no dirigido con atributos de peso en las arista\n",
        "*    *weight* : nombre del atributo de peso en las aristas\n",
        "\n",
        "Utilizamos *nx.minimum_spanning_tree* de la librería networkx para que nos devuelva el árbol de expansión mínima del grafo como un nuevo grafo.\n"
      ],
      "metadata": {
        "id": "S_s9doZh15e5"
      }
    },
    {
      "cell_type": "code",
      "source": [
        "def compute_mst(G, weight='weight'):\n",
        "    T = nx.minimum_spanning_tree(G, weight=weight)\n",
        "    return T"
      ],
      "metadata": {
        "id": "70Ibq6I6154y"
      },
      "execution_count": 212,
      "outputs": []
    },
    {
      "cell_type": "markdown",
      "source": [
        "**Ejemplo del árbol de expansión mínima:**\n",
        "\n",
        "Una compañía de TV quiere proporcionar servicio de cable a 5 nuevas áreas habitacionales, la figura muestra las conexiones posibles. La distancia está en millas. Dterminar la red de menor costo.:"
      ],
      "metadata": {
        "id": "9KgmX2QOQt7f"
      }
    },
    {
      "cell_type": "code",
      "source": [
        "# Crear un grafo de ejemplo\n",
        "Grafo = nx.Graph()\n",
        "Grafo.add_edge('1', '2', capacity=1, weight=1)\n",
        "Grafo.add_edge('1', '3', capacity=1, weight=5)\n",
        "Grafo.add_edge('1', '5', capacity=1, weight=9)\n",
        "Grafo.add_edge('1', '4', capacity=1, weight=7)\n",
        "Grafo.add_edge('2', '4', capacity=1, weight=4)\n",
        "Grafo.add_edge('2', '3', capacity=1, weight=6)\n",
        "Grafo.add_edge('2', '5', capacity=1, weight=3)\n",
        "Grafo.add_edge('3', '4', capacity=1, weight=5)\n",
        "Grafo.add_edge('3', '6', capacity=1, weight=10)\n",
        "Grafo.add_edge('4', '5', capacity=1, weight=8)\n",
        "Grafo.add_edge('4', '6', capacity=1, weight=3)\n",
        "\n",
        "Grafo\n",
        "nx.draw_networkx(Grafo)\n"
      ],
      "metadata": {
        "colab": {
          "base_uri": "https://localhost:8080/",
          "height": 406
        },
        "id": "UAzTRGir-XQn",
        "outputId": "ab1ef872-eee4-4a23-c294-44a77352e9c2"
      },
      "execution_count": 213,
      "outputs": [
        {
          "output_type": "display_data",
          "data": {
            "text/plain": [
              "<Figure size 640x480 with 1 Axes>"
            ],
            "image/png": "[encoded data removed]"
          },
          "metadata": {}
        }
      ]
    },
    {
      "cell_type": "code",
      "source": [
        "# Nos muestra la solución, la longitud de cada nodo elegido y la suma total, es decir, la distancia.\n",
        "\n",
        "T = compute_mst(Grafo)\n",
        "print(\"SOLUCIÓN. La red de menor costo es:\\n\")\n",
        "for u, v, data in T.edges(data=True):\n",
        "    print(u, \"->\", v, \"longitud de:\", data.get('weight'))\n",
        "suma = sum(data.get('weight') for u, v, data in T.edges(data=True))\n",
        "print(\"\\nLa distancia total es: \", suma, \"millas\")"
      ],
      "metadata": {
        "colab": {
          "base_uri": "https://localhost:8080/"
        },
        "id": "N0-cOdWjTIrC",
        "outputId": "f4c81e1f-aa7d-40fd-c2ab-6b26dd027618"
      },
      "execution_count": 214,
      "outputs": [
        {
          "output_type": "stream",
          "name": "stdout",
          "text": [
            "SOLUCIÓN. La red de menor costo es:\n",
            "\n",
            "1 -> 2 longitud de: 1\n",
            "1 -> 3 longitud de: 5\n",
            "2 -> 5 longitud de: 3\n",
            "2 -> 4 longitud de: 4\n",
            "4 -> 6 longitud de: 3\n",
            "\n",
            "La distancia total es:  16 millas\n"
          ]
        }
      ]
    },
    {
      "cell_type": "markdown",
      "source": [
        "## **La ruta más corta**\n",
        "\n",
        "Devuelve la ruta más corta entre source y target en G, y su longitud.\n",
        "\n",
        "Parámetros:\n",
        "*   G: grafo (dirigido o no dirigido), con atributos de peso en las aristas.\n",
        "*   source: nodo origen\n",
        "*   target: nodo destino\n",
        "*   weight: nombre del atributo de peso en las aristas\n",
        "\n",
        " Retorna:\n",
        "*   path: lista de nodos que representan la ruta más corta\n",
        "*   distance: longitud total de la ruta (suma de los pesos)"
      ],
      "metadata": {
        "id": "AiOSb7vCT48T"
      }
    },
    {
      "cell_type": "code",
      "source": [
        "def shortest_path(G, source, target, weight='weight'):\n",
        "    distance = nx.dijkstra_path_length(G, source, target, weight=weight)\n",
        "    path = nx.dijkstra_path(G, source, target, weight=weight)\n",
        "    return path, distance"
      ],
      "metadata": {
        "id": "L9P75MuVT84E"
      },
      "execution_count": 215,
      "outputs": []
    },
    {
      "cell_type": "markdown",
      "source": [
        "**Ejemplo**\n",
        "\n",
        "\n",
        "La red nos muestra rutas entre la ciudad 1 y otras 4 ciudades. Determinar la ruta más corta, entre 1 y 5."
      ],
      "metadata": {
        "id": "OXta75ALbjvf"
      }
    },
    {
      "cell_type": "code",
      "source": [
        "# Crear un grafo de ejemplo\n",
        "G2 = nx.Graph()\n",
        "G2.add_edge('1', '2', capacity=1, weight=100)\n",
        "G2.add_edge('1', '3', capacity=1, weight=30)\n",
        "G2.add_edge('2', '3', capacity=1, weight=20)\n",
        "G2.add_edge('2', '4', capacity=1, weight=15)\n",
        "G2.add_edge('3', '4', capacity=1, weight=10)\n",
        "G2.add_edge('3', '5', capacity=1, weight=60)\n",
        "G2.add_edge('4', '5', capacity=1, weight=50)\n",
        "\n",
        "G2\n",
        "nx.draw_networkx(G2)"
      ],
      "metadata": {
        "colab": {
          "base_uri": "https://localhost:8080/",
          "height": 406
        },
        "id": "xzP_xk2Bb1j5",
        "outputId": "706661b1-fe20-43cd-c368-ffe71795c3dd"
      },
      "execution_count": 216,
      "outputs": [
        {
          "output_type": "display_data",
          "data": {
            "text/plain": [
              "<Figure size 640x480 with 1 Axes>"
            ],
            "image/png": "[encoded data removed]"
          },
          "metadata": {}
        }
      ]
    },
    {
      "cell_type": "code",
      "source": [
        "# Queremos la ruta más corta de '1' y cada una de las otras ciudades\n",
        "path, dist = shortest_path(G2, '1', '5')\n",
        "print(\"Ruta más corta de 1 a 5:\", path)\n",
        "print(\"Distancia:\", dist)"
      ],
      "metadata": {
        "colab": {
          "base_uri": "https://localhost:8080/"
        },
        "id": "UdHJNfYvcqlq",
        "outputId": "0d0cea58-11bc-4292-ce02-7e16f8151bf5"
      },
      "execution_count": 217,
      "outputs": [
        {
          "output_type": "stream",
          "name": "stdout",
          "text": [
            "Ruta más corta de 1 a 5: ['1', '3', '5']\n",
            "Distancia: 90\n"
          ]
        }
      ]
    },
    {
      "cell_type": "markdown",
      "source": [
        "## **Flujo máximo**\n",
        "\n",
        "Calcula el flujo máximo entre source y sink en un grafo dirigido G.\n",
        "\n",
        "Parámetros:\n",
        "*   G: grafo dirigido (nx.DiGraph) con atributo de capacidad en las aristas.\n",
        "*   source: nodo fuente\n",
        "*   sink: nodo sumidero\n",
        "*   capacity: nombre del atributo de capacidad (por defecto 'capacity')\n",
        "\n",
        "Retorna:\n",
        "*   flow_value: valor numérico del flujo máximo\n",
        "*   flow_dict: diccionario con el flujo asignado a cada arista (estructura tipo {u: {v: flujo_uv, ...}, ...})\n"
      ],
      "metadata": {
        "id": "eilnGSbTT9dD"
      }
    },
    {
      "cell_type": "code",
      "source": [],
      "metadata": {
        "id": "ljoO4-mRUOwW"
      },
      "execution_count": 217,
      "outputs": []
    }
  ]
}