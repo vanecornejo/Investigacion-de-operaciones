{
  "nbformat": 4,
  "nbformat_minor": 0,
  "metadata": {
    "colab": {
      "provenance": [],
      "include_colab_link": true
    },
    "kernelspec": {
      "name": "python3",
      "display_name": "Python 3"
    },
    "language_info": {
      "name": "python"
    }
  },
  "cells": [
    {
      "cell_type": "markdown",
      "metadata": {
        "id": "view-in-github",
        "colab_type": "text"
      },
      "source": [
        "<a href=\"https://colab.research.google.com/github/vanecornejo/Investigacion-de-operaciones/blob/main/Modelos%20de%20redes.ipynb\" target=\"_parent\"><img src=\"https://colab.research.google.com/assets/colab-badge.svg\" alt=\"Open In Colab\"/></a>"
      ]
    },
    {
      "cell_type": "markdown",
      "source": [
        "# **Modelos de redes**"
      ],
      "metadata": {
        "id": "3qbPnIEagm6c"
      }
    },
    {
      "cell_type": "code",
      "execution_count": 14,
      "metadata": {
        "id": "rQVx2AluXj1m"
      },
      "outputs": [],
      "source": [
        "#insertamos librería\n",
        "import networkx as nx"
      ]
    },
    {
      "cell_type": "markdown",
      "source": [
        "### Gráfica dirigida\n",
        "Para agregar una gráfica dirigida usamos nx.DiGraph()"
      ],
      "metadata": {
        "id": "yodH6p8xHXbw"
      }
    },
    {
      "cell_type": "code",
      "source": [
        "G = nx.DiGraph()"
      ],
      "metadata": {
        "id": "cxqaaJZGYiD0"
      },
      "execution_count": 15,
      "outputs": []
    },
    {
      "cell_type": "markdown",
      "source": [
        "### Agregar nodos y arcos\n",
        "Vamos a agregar los arcos que conectan a los nodos, agregrando ahí mismo los nodos, en este caso los nodos son las letras A, B, C y D."
      ],
      "metadata": {
        "id": "WNQ02hIlHVsn"
      }
    },
    {
      "cell_type": "code",
      "source": [
        "# Agregar los arcos que conectan a los nodos\n",
        "G.add_edge(\"A\",\"B\", capacity=1)\n",
        "G.add_edge(\"A\",\"C\", capacity=1)\n",
        "G.add_edge(\"B\",\"D\", capacity=1)\n",
        "G.add_edge(\"B\",\"C\", capacity=1)\n",
        "G.add_edge(\"C\",\"D\", capacity=1)"
      ],
      "metadata": {
        "id": "ZJIjG5yTY6vA"
      },
      "execution_count": 16,
      "outputs": []
    },
    {
      "cell_type": "markdown",
      "source": [
        "### Visualización del gráfico\n",
        "Mandamos llamar G, para después imprimir la gráfica con nx.draw_network"
      ],
      "metadata": {
        "id": "KF-Duczg2fVK"
      }
    },
    {
      "cell_type": "code",
      "source": [
        "G\n",
        "nx.draw_networkx(G) #nos muestra la gráfica con los arcos creados"
      ],
      "metadata": {
        "colab": {
          "base_uri": "https://localhost:8080/",
          "height": 406
        },
        "id": "S3OX3TeNa8io",
        "outputId": "209557d6-7106-43a2-9705-55d4f050fe15"
      },
      "execution_count": 17,
      "outputs": [
        {
          "output_type": "display_data",
          "data": {
            "text/plain": [
              "<Figure size 640x480 with 1 Axes>"
            ],
            "image/png": "[encoded data removed]"
          },
          "metadata": {}
        }
      ]
    },
    {
      "cell_type": "markdown",
      "source": [
        "### Propiedades de nodos y arcos\n",
        "Podemos utilizar diferentes funciones para ver el número de nodos que tiene la red, para mostrarnos cómo van conectados los nodos, el grado de cada nodo.\n",
        "- **Nodos (nodes):** nodos de la red\n",
        "- **Número de nodos (number_of_nodes):** cuántos nodos tiene la red\n",
        "- **Número de arcos (numbe_of_edges):** cuántos arcos tiene la red\n",
        "- **Conexión de nodos en arcos (edges):** cómo se conectan los nodos en cada arco\n",
        "- **Grado del nodo (degree):** cuántas conexiones tiene cada nodo\n"
      ],
      "metadata": {
        "id": "Wfu7vAfYssZu"
      }
    },
    {
      "cell_type": "code",
      "source": [
        "nx.nodes(G) # Regresa los nodos que tiene la red"
      ],
      "metadata": {
        "colab": {
          "base_uri": "https://localhost:8080/"
        },
        "id": "gqtBjgHD4p0h",
        "outputId": "6db2a91c-d496-4277-ff34-793bb2f045a0"
      },
      "execution_count": 18,
      "outputs": [
        {
          "output_type": "execute_result",
          "data": {
            "text/plain": [
              "NodeView(('A', 'B', 'C', 'D'))"
            ]
          },
          "metadata": {},
          "execution_count": 18
        }
      ]
    },
    {
      "cell_type": "code",
      "source": [
        "nx.number_of_nodes(G) # Regresa el número de nodos que tiene la red"
      ],
      "metadata": {
        "colab": {
          "base_uri": "https://localhost:8080/"
        },
        "id": "oZgUqCcl31mC",
        "outputId": "c38a3999-fca5-41ac-b182-a4f4f89a4ded"
      },
      "execution_count": 19,
      "outputs": [
        {
          "output_type": "execute_result",
          "data": {
            "text/plain": [
              "4"
            ]
          },
          "metadata": {},
          "execution_count": 19
        }
      ]
    },
    {
      "cell_type": "code",
      "source": [
        "nx.number_of_edges(G) # Regresa el número de arcos que tiene la red"
      ],
      "metadata": {
        "colab": {
          "base_uri": "https://localhost:8080/"
        },
        "id": "62krO1mH6jON",
        "outputId": "1a3b4dbe-4698-4081-c7c3-86e85d9eeedd"
      },
      "execution_count": 20,
      "outputs": [
        {
          "output_type": "execute_result",
          "data": {
            "text/plain": [
              "5"
            ]
          },
          "metadata": {},
          "execution_count": 20
        }
      ]
    },
    {
      "cell_type": "code",
      "source": [
        "nx.edges(G) # Nos muestra cómo van conectados los nodos en cada arco"
      ],
      "metadata": {
        "colab": {
          "base_uri": "https://localhost:8080/"
        },
        "id": "0XgEndCR26cb",
        "outputId": "d3afbec8-2925-4d5d-f9ac-4adc36c991ef"
      },
      "execution_count": 21,
      "outputs": [
        {
          "output_type": "execute_result",
          "data": {
            "text/plain": [
              "OutEdgeView([('A', 'B'), ('A', 'C'), ('B', 'D'), ('B', 'C'), ('C', 'D')])"
            ]
          },
          "metadata": {},
          "execution_count": 21
        }
      ]
    },
    {
      "cell_type": "code",
      "source": [
        "nx.degree(G) # Muestra el grado de cada nodo, es decir, cuántas conexiones (o arcos) tiene cada nodo"
      ],
      "metadata": {
        "colab": {
          "base_uri": "https://localhost:8080/"
        },
        "id": "cyS6XVTc31_w",
        "outputId": "f764645e-5d1b-498f-c502-b7d469f54046"
      },
      "execution_count": 22,
      "outputs": [
        {
          "output_type": "execute_result",
          "data": {
            "text/plain": [
              "DiDegreeView({'A': 2, 'B': 3, 'C': 3, 'D': 2})"
            ]
          },
          "metadata": {},
          "execution_count": 22
        }
      ]
    },
    {
      "cell_type": "markdown",
      "source": [
        "### Medidas de Centralidad\n",
        "Las medidas de centralidad ayudan a identificar qué nodos son más importantes en la red\n",
        "\n",
        "- **Grado (degree):** número de conexiones\n",
        "- **Cercanía (closeness):** qué tan cerca está un nodo del resto\n",
        "- **Intermediación (betweenness):** cuántos caminos pasan por el nodo\n"
      ],
      "metadata": {
        "id": "7SbP-jtm7Jc8"
      }
    },
    {
      "cell_type": "code",
      "source": [
        "nx.degree_centrality(G) # Centralidad de grado, es decir, número de conexiones"
      ],
      "metadata": {
        "colab": {
          "base_uri": "https://localhost:8080/"
        },
        "id": "7qN4I1aH8pve",
        "outputId": "d446a124-cf4d-48a9-a326-92afc19795bc"
      },
      "execution_count": 23,
      "outputs": [
        {
          "output_type": "execute_result",
          "data": {
            "text/plain": [
              "{'A': 0.6666666666666666, 'B': 1.0, 'C': 1.0, 'D': 0.6666666666666666}"
            ]
          },
          "metadata": {},
          "execution_count": 23
        }
      ]
    },
    {
      "cell_type": "code",
      "source": [
        "nx.closeness_centrality(G) # Centralidad de cercanía"
      ],
      "metadata": {
        "colab": {
          "base_uri": "https://localhost:8080/"
        },
        "id": "BriLp1mp7TgT",
        "outputId": "6849e1de-9f29-4ffb-e582-5a2cc7e2fc5d"
      },
      "execution_count": 24,
      "outputs": [
        {
          "output_type": "execute_result",
          "data": {
            "text/plain": [
              "{'A': 0.0, 'B': 0.3333333333333333, 'C': 0.6666666666666666, 'D': 0.75}"
            ]
          },
          "metadata": {},
          "execution_count": 24
        }
      ]
    },
    {
      "cell_type": "code",
      "source": [
        "nx.betweenness_centrality(G) # Centralidad de intermediación"
      ],
      "metadata": {
        "colab": {
          "base_uri": "https://localhost:8080/"
        },
        "id": "0qI9jBi97T4A",
        "outputId": "bd324e4a-0c88-40fa-88c6-53799161dfbe"
      },
      "execution_count": 25,
      "outputs": [
        {
          "output_type": "execute_result",
          "data": {
            "text/plain": [
              "{'A': 0.0, 'B': 0.08333333333333333, 'C': 0.08333333333333333, 'D': 0.0}"
            ]
          },
          "metadata": {},
          "execution_count": 25
        }
      ]
    },
    {
      "cell_type": "markdown",
      "source": [
        "### Caminos más cortos\n",
        "También podemos encontrar el camino más corto entre dos nodos. El camino más corto entre dos nodos es la ruta con menos arcos que los conecta.\n",
        "\n",
        "- nx.shortest_path(G, source, target) → devuelve el camino.  \n",
        "- nx.shortest_path_length(G, source, target) → devuelve la longitud.\n"
      ],
      "metadata": {
        "id": "dxQqzoDw-HQK"
      }
    },
    {
      "cell_type": "code",
      "source": [
        "# Por ejemplo\n",
        "camino = nx.shortest_path(G, source=\"A\", target=\"D\")\n",
        "longitud = nx.shortest_path_length(G, source=\"A\", target=\"D\")\n",
        "\n",
        "print(\"Camino más corto entre A y D:\", camino)\n",
        "print(\"Longitud del camino:\", longitud)\n"
      ],
      "metadata": {
        "colab": {
          "base_uri": "https://localhost:8080/"
        },
        "id": "rzQtbgAa-PQl",
        "outputId": "fe82e2ad-3830-4f0d-8e7f-fd42d7103e25"
      },
      "execution_count": 26,
      "outputs": [
        {
          "output_type": "stream",
          "name": "stdout",
          "text": [
            "Camino más corto entre A y D: ['A', 'B', 'D']\n",
            "Longitud del camino: 2\n"
          ]
        }
      ]
    }
  ]
}